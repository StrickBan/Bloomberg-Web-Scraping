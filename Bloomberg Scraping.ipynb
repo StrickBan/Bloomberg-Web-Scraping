{
 "cells": [
  {
   "cell_type": "code",
   "execution_count": 6,
   "metadata": {},
   "outputs": [],
   "source": [
    "from bs4 import BeautifulSoup as bs\n",
    "import requests, re, json\n",
    "import pandas as pd\n",
    "import os \n",
    "\n",
    "links = pd.read_excel((r'C:\\Users\\Rodrigo\\Documents\\Data Projects\\5. Billionaires\\cdx.xlsx'))\n",
    "\n",
    "headers = {\n",
    "    'user-agent': 'Mozilla/5.0',\n",
    "    'accept': 'text/html,application/xhtml+xml,application/xml;q=0.9,image/webp,image/apng,*/*;q=0.8,application/signed-exchange;v=b3',\n",
    "    'if-none-match': 'W/^\\\\^5dbb59e6-91b10^\\\\^',\n",
    "}\n",
    "\n",
    "p = re.compile(r'window.top500 = (.*);')\n",
    "# MULTIPLES PAGES\n",
    "for i in range (len(links)):\n",
    "    fname = os.path.join(r\"C:/Users/Rodrigo/Documents/Data Projects/5. Billionaires/\", str(links[\"fecha\"].iloc[i]) + \".xlsx\")\n",
    "    url = links[\"link\"].iloc[i]\n",
    "    r = requests.get(url, headers = headers)\n",
    "    try:\n",
    "        data = json.loads(p.findall(r.text)[0])\n",
    "        df = pd.DataFrame(data)\n",
    "        df.to_excel(fname, encoding='utf-8-sig',index = False)\n",
    "        print(\"success\" + fname)\n",
    "    except:\n",
    "        print(\"error\" + fname)\n",
    "        continue\n",
    "\n",
    "# url = \"https://www.bloomberg.com/billionaires/\"\n",
    "# r = requests.get(url, headers = headers)\n",
    "# data = json.loads(p.findall(r.text)[0])\n",
    "# df = pd.DataFrame(data)\n",
    "# df.to_excel(r\"C:/Users/Rodrigo/Documents/Data Projects/5. Billionaires/01-09-2020.xlsx\", encoding='utf-8-sig',index = False)\n"
   ]
  }
 ],
 "metadata": {
  "kernelspec": {
   "display_name": "Python 3",
   "language": "python",
   "name": "python3"
  },
  "language_info": {
   "codemirror_mode": {
    "name": "ipython",
    "version": 3
   },
   "file_extension": ".py",
   "mimetype": "text/x-python",
   "name": "python",
   "nbconvert_exporter": "python",
   "pygments_lexer": "ipython3",
   "version": "3.7.4"
  }
 },
 "nbformat": 4,
 "nbformat_minor": 2
}
